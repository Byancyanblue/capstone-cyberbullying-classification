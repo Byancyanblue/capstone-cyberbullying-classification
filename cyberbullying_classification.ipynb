{
  "nbformat": 4,
  "nbformat_minor": 0,
  "metadata": {
    "colab": {
      "provenance": []
    },
    "kernelspec": {
      "name": "python3",
      "display_name": "Python 3"
    },
    "language_info": {
      "name": "python"
    }
  },
  "cells": [
    {
      "cell_type": "markdown",
      "source": [
        "**1. Using IBM Granite to Classification and Summarization Cyberbullying Data**"
      ],
      "metadata": {
        "id": "ImYinAZ4Y132"
      }
    },
    {
      "cell_type": "markdown",
      "metadata": {
        "id": "25e4434b"
      },
      "source": [
        "*   Instalasi Library"
      ]
    },
    {
      "cell_type": "code",
      "execution_count": 48,
      "metadata": {
        "colab": {
          "base_uri": "https://localhost:8080/"
        },
        "id": "QHhZpM_TFtJV",
        "outputId": "4e336d5a-cf5d-454b-9a23-562f80242ad5"
      },
      "outputs": [
        {
          "output_type": "stream",
          "name": "stdout",
          "text": [
            "Requirement already satisfied: langchain_community in /usr/local/lib/python3.11/dist-packages (0.3.27)\n",
            "Requirement already satisfied: langchain-core<1.0.0,>=0.3.66 in /usr/local/lib/python3.11/dist-packages (from langchain_community) (0.3.72)\n",
            "Requirement already satisfied: langchain<1.0.0,>=0.3.26 in /usr/local/lib/python3.11/dist-packages (from langchain_community) (0.3.27)\n",
            "Requirement already satisfied: SQLAlchemy<3,>=1.4 in /usr/local/lib/python3.11/dist-packages (from langchain_community) (2.0.41)\n",
            "Requirement already satisfied: requests<3,>=2 in /usr/local/lib/python3.11/dist-packages (from langchain_community) (2.32.3)\n",
            "Requirement already satisfied: PyYAML>=5.3 in /usr/local/lib/python3.11/dist-packages (from langchain_community) (6.0.2)\n",
            "Requirement already satisfied: aiohttp<4.0.0,>=3.8.3 in /usr/local/lib/python3.11/dist-packages (from langchain_community) (3.12.14)\n",
            "Requirement already satisfied: tenacity!=8.4.0,<10,>=8.1.0 in /usr/local/lib/python3.11/dist-packages (from langchain_community) (8.5.0)\n",
            "Requirement already satisfied: dataclasses-json<0.7,>=0.5.7 in /usr/local/lib/python3.11/dist-packages (from langchain_community) (0.6.7)\n",
            "Requirement already satisfied: pydantic-settings<3.0.0,>=2.4.0 in /usr/local/lib/python3.11/dist-packages (from langchain_community) (2.10.1)\n",
            "Requirement already satisfied: langsmith>=0.1.125 in /usr/local/lib/python3.11/dist-packages (from langchain_community) (0.4.8)\n",
            "Requirement already satisfied: httpx-sse<1.0.0,>=0.4.0 in /usr/local/lib/python3.11/dist-packages (from langchain_community) (0.4.1)\n",
            "Requirement already satisfied: numpy>=1.26.2 in /usr/local/lib/python3.11/dist-packages (from langchain_community) (2.0.2)\n",
            "Requirement already satisfied: aiohappyeyeballs>=2.5.0 in /usr/local/lib/python3.11/dist-packages (from aiohttp<4.0.0,>=3.8.3->langchain_community) (2.6.1)\n",
            "Requirement already satisfied: aiosignal>=1.4.0 in /usr/local/lib/python3.11/dist-packages (from aiohttp<4.0.0,>=3.8.3->langchain_community) (1.4.0)\n",
            "Requirement already satisfied: attrs>=17.3.0 in /usr/local/lib/python3.11/dist-packages (from aiohttp<4.0.0,>=3.8.3->langchain_community) (25.3.0)\n",
            "Requirement already satisfied: frozenlist>=1.1.1 in /usr/local/lib/python3.11/dist-packages (from aiohttp<4.0.0,>=3.8.3->langchain_community) (1.7.0)\n",
            "Requirement already satisfied: multidict<7.0,>=4.5 in /usr/local/lib/python3.11/dist-packages (from aiohttp<4.0.0,>=3.8.3->langchain_community) (6.6.3)\n",
            "Requirement already satisfied: propcache>=0.2.0 in /usr/local/lib/python3.11/dist-packages (from aiohttp<4.0.0,>=3.8.3->langchain_community) (0.3.2)\n",
            "Requirement already satisfied: yarl<2.0,>=1.17.0 in /usr/local/lib/python3.11/dist-packages (from aiohttp<4.0.0,>=3.8.3->langchain_community) (1.20.1)\n",
            "Requirement already satisfied: marshmallow<4.0.0,>=3.18.0 in /usr/local/lib/python3.11/dist-packages (from dataclasses-json<0.7,>=0.5.7->langchain_community) (3.26.1)\n",
            "Requirement already satisfied: typing-inspect<1,>=0.4.0 in /usr/local/lib/python3.11/dist-packages (from dataclasses-json<0.7,>=0.5.7->langchain_community) (0.9.0)\n",
            "Requirement already satisfied: langchain-text-splitters<1.0.0,>=0.3.9 in /usr/local/lib/python3.11/dist-packages (from langchain<1.0.0,>=0.3.26->langchain_community) (0.3.9)\n",
            "Requirement already satisfied: pydantic<3.0.0,>=2.7.4 in /usr/local/lib/python3.11/dist-packages (from langchain<1.0.0,>=0.3.26->langchain_community) (2.11.7)\n",
            "Requirement already satisfied: jsonpatch<2.0,>=1.33 in /usr/local/lib/python3.11/dist-packages (from langchain-core<1.0.0,>=0.3.66->langchain_community) (1.33)\n",
            "Requirement already satisfied: typing-extensions>=4.7 in /usr/local/lib/python3.11/dist-packages (from langchain-core<1.0.0,>=0.3.66->langchain_community) (4.14.1)\n",
            "Requirement already satisfied: packaging>=23.2 in /usr/local/lib/python3.11/dist-packages (from langchain-core<1.0.0,>=0.3.66->langchain_community) (25.0)\n",
            "Requirement already satisfied: httpx<1,>=0.23.0 in /usr/local/lib/python3.11/dist-packages (from langsmith>=0.1.125->langchain_community) (0.28.1)\n",
            "Requirement already satisfied: orjson<4.0.0,>=3.9.14 in /usr/local/lib/python3.11/dist-packages (from langsmith>=0.1.125->langchain_community) (3.11.1)\n",
            "Requirement already satisfied: requests-toolbelt<2.0.0,>=1.0.0 in /usr/local/lib/python3.11/dist-packages (from langsmith>=0.1.125->langchain_community) (1.0.0)\n",
            "Requirement already satisfied: zstandard<0.24.0,>=0.23.0 in /usr/local/lib/python3.11/dist-packages (from langsmith>=0.1.125->langchain_community) (0.23.0)\n",
            "Requirement already satisfied: python-dotenv>=0.21.0 in /usr/local/lib/python3.11/dist-packages (from pydantic-settings<3.0.0,>=2.4.0->langchain_community) (1.1.1)\n",
            "Requirement already satisfied: typing-inspection>=0.4.0 in /usr/local/lib/python3.11/dist-packages (from pydantic-settings<3.0.0,>=2.4.0->langchain_community) (0.4.1)\n",
            "Requirement already satisfied: charset-normalizer<4,>=2 in /usr/local/lib/python3.11/dist-packages (from requests<3,>=2->langchain_community) (3.4.2)\n",
            "Requirement already satisfied: idna<4,>=2.5 in /usr/local/lib/python3.11/dist-packages (from requests<3,>=2->langchain_community) (3.10)\n",
            "Requirement already satisfied: urllib3<3,>=1.21.1 in /usr/local/lib/python3.11/dist-packages (from requests<3,>=2->langchain_community) (2.5.0)\n",
            "Requirement already satisfied: certifi>=2017.4.17 in /usr/local/lib/python3.11/dist-packages (from requests<3,>=2->langchain_community) (2025.7.14)\n",
            "Requirement already satisfied: greenlet>=1 in /usr/local/lib/python3.11/dist-packages (from SQLAlchemy<3,>=1.4->langchain_community) (3.2.3)\n",
            "Requirement already satisfied: anyio in /usr/local/lib/python3.11/dist-packages (from httpx<1,>=0.23.0->langsmith>=0.1.125->langchain_community) (4.9.0)\n",
            "Requirement already satisfied: httpcore==1.* in /usr/local/lib/python3.11/dist-packages (from httpx<1,>=0.23.0->langsmith>=0.1.125->langchain_community) (1.0.9)\n",
            "Requirement already satisfied: h11>=0.16 in /usr/local/lib/python3.11/dist-packages (from httpcore==1.*->httpx<1,>=0.23.0->langsmith>=0.1.125->langchain_community) (0.16.0)\n",
            "Requirement already satisfied: jsonpointer>=1.9 in /usr/local/lib/python3.11/dist-packages (from jsonpatch<2.0,>=1.33->langchain-core<1.0.0,>=0.3.66->langchain_community) (3.0.0)\n",
            "Requirement already satisfied: annotated-types>=0.6.0 in /usr/local/lib/python3.11/dist-packages (from pydantic<3.0.0,>=2.7.4->langchain<1.0.0,>=0.3.26->langchain_community) (0.7.0)\n",
            "Requirement already satisfied: pydantic-core==2.33.2 in /usr/local/lib/python3.11/dist-packages (from pydantic<3.0.0,>=2.7.4->langchain<1.0.0,>=0.3.26->langchain_community) (2.33.2)\n",
            "Requirement already satisfied: mypy-extensions>=0.3.0 in /usr/local/lib/python3.11/dist-packages (from typing-inspect<1,>=0.4.0->dataclasses-json<0.7,>=0.5.7->langchain_community) (1.1.0)\n",
            "Requirement already satisfied: sniffio>=1.1 in /usr/local/lib/python3.11/dist-packages (from anyio->httpx<1,>=0.23.0->langsmith>=0.1.125->langchain_community) (1.3.1)\n",
            "Requirement already satisfied: replicate in /usr/local/lib/python3.11/dist-packages (1.0.7)\n",
            "Requirement already satisfied: httpx<1,>=0.21.0 in /usr/local/lib/python3.11/dist-packages (from replicate) (0.28.1)\n",
            "Requirement already satisfied: packaging in /usr/local/lib/python3.11/dist-packages (from replicate) (25.0)\n",
            "Requirement already satisfied: pydantic>1.10.7 in /usr/local/lib/python3.11/dist-packages (from replicate) (2.11.7)\n",
            "Requirement already satisfied: typing_extensions>=4.5.0 in /usr/local/lib/python3.11/dist-packages (from replicate) (4.14.1)\n",
            "Requirement already satisfied: anyio in /usr/local/lib/python3.11/dist-packages (from httpx<1,>=0.21.0->replicate) (4.9.0)\n",
            "Requirement already satisfied: certifi in /usr/local/lib/python3.11/dist-packages (from httpx<1,>=0.21.0->replicate) (2025.7.14)\n",
            "Requirement already satisfied: httpcore==1.* in /usr/local/lib/python3.11/dist-packages (from httpx<1,>=0.21.0->replicate) (1.0.9)\n",
            "Requirement already satisfied: idna in /usr/local/lib/python3.11/dist-packages (from httpx<1,>=0.21.0->replicate) (3.10)\n",
            "Requirement already satisfied: h11>=0.16 in /usr/local/lib/python3.11/dist-packages (from httpcore==1.*->httpx<1,>=0.21.0->replicate) (0.16.0)\n",
            "Requirement already satisfied: annotated-types>=0.6.0 in /usr/local/lib/python3.11/dist-packages (from pydantic>1.10.7->replicate) (0.7.0)\n",
            "Requirement already satisfied: pydantic-core==2.33.2 in /usr/local/lib/python3.11/dist-packages (from pydantic>1.10.7->replicate) (2.33.2)\n",
            "Requirement already satisfied: typing-inspection>=0.4.0 in /usr/local/lib/python3.11/dist-packages (from pydantic>1.10.7->replicate) (0.4.1)\n",
            "Requirement already satisfied: sniffio>=1.1 in /usr/local/lib/python3.11/dist-packages (from anyio->httpx<1,>=0.21.0->replicate) (1.3.1)\n",
            "Requirement already satisfied: pandas in /usr/local/lib/python3.11/dist-packages (2.2.2)\n",
            "Requirement already satisfied: numpy>=1.23.2 in /usr/local/lib/python3.11/dist-packages (from pandas) (2.0.2)\n",
            "Requirement already satisfied: python-dateutil>=2.8.2 in /usr/local/lib/python3.11/dist-packages (from pandas) (2.9.0.post0)\n",
            "Requirement already satisfied: pytz>=2020.1 in /usr/local/lib/python3.11/dist-packages (from pandas) (2025.2)\n",
            "Requirement already satisfied: tzdata>=2022.7 in /usr/local/lib/python3.11/dist-packages (from pandas) (2025.2)\n",
            "Requirement already satisfied: six>=1.5 in /usr/local/lib/python3.11/dist-packages (from python-dateutil>=2.8.2->pandas) (1.17.0)\n",
            "Requirement already satisfied: matplotlib in /usr/local/lib/python3.11/dist-packages (3.10.0)\n",
            "Requirement already satisfied: seaborn in /usr/local/lib/python3.11/dist-packages (0.13.2)\n",
            "Requirement already satisfied: contourpy>=1.0.1 in /usr/local/lib/python3.11/dist-packages (from matplotlib) (1.3.2)\n",
            "Requirement already satisfied: cycler>=0.10 in /usr/local/lib/python3.11/dist-packages (from matplotlib) (0.12.1)\n",
            "Requirement already satisfied: fonttools>=4.22.0 in /usr/local/lib/python3.11/dist-packages (from matplotlib) (4.59.0)\n",
            "Requirement already satisfied: kiwisolver>=1.3.1 in /usr/local/lib/python3.11/dist-packages (from matplotlib) (1.4.8)\n",
            "Requirement already satisfied: numpy>=1.23 in /usr/local/lib/python3.11/dist-packages (from matplotlib) (2.0.2)\n",
            "Requirement already satisfied: packaging>=20.0 in /usr/local/lib/python3.11/dist-packages (from matplotlib) (25.0)\n",
            "Requirement already satisfied: pillow>=8 in /usr/local/lib/python3.11/dist-packages (from matplotlib) (11.3.0)\n",
            "Requirement already satisfied: pyparsing>=2.3.1 in /usr/local/lib/python3.11/dist-packages (from matplotlib) (3.2.3)\n",
            "Requirement already satisfied: python-dateutil>=2.7 in /usr/local/lib/python3.11/dist-packages (from matplotlib) (2.9.0.post0)\n",
            "Requirement already satisfied: pandas>=1.2 in /usr/local/lib/python3.11/dist-packages (from seaborn) (2.2.2)\n",
            "Requirement already satisfied: pytz>=2020.1 in /usr/local/lib/python3.11/dist-packages (from pandas>=1.2->seaborn) (2025.2)\n",
            "Requirement already satisfied: tzdata>=2022.7 in /usr/local/lib/python3.11/dist-packages (from pandas>=1.2->seaborn) (2025.2)\n",
            "Requirement already satisfied: six>=1.5 in /usr/local/lib/python3.11/dist-packages (from python-dateutil>=2.7->matplotlib) (1.17.0)\n"
          ]
        }
      ],
      "source": [
        "!pip install langchain_community\n",
        "!pip install replicate\n",
        "!pip install pandas\n",
        "!pip install matplotlib seaborn"
      ]
    },
    {
      "cell_type": "markdown",
      "metadata": {
        "id": "69a8a6fc"
      },
      "source": [
        "*   Konfigurasi API Key Replicate\n",
        "*   Inisialisasi Model IBM Granite"
      ]
    },
    {
      "cell_type": "code",
      "source": [
        "import os\n",
        "from langchain_community.llms import Replicate\n",
        "from google.colab import userdata\n",
        "\n",
        "# Ambil API token dari Google Colab Secrets\n",
        "api_token = userdata.get(\"REPLICATE_API_KEY\")\n",
        "os.environ[\"REPLICATE_API_TOKEN\"] = api_token\n",
        "\n",
        "# Inisialisasi IBM Granite model\n",
        "model = Replicate(\n",
        "    model=\"ibm-granite/granite-3.3-8b-instruct\",\n",
        "    replicate_api_token=api_token,\n",
        ")\n"
      ],
      "metadata": {
        "id": "6JDQ3_IQHUV9"
      },
      "execution_count": 50,
      "outputs": []
    },
    {
      "cell_type": "markdown",
      "metadata": {
        "id": "70b3da89"
      },
      "source": [
        "*   Memuat dan Membersihkan Dataset CSV\n",
        "*   Melihat Data Awal"
      ]
    },
    {
      "cell_type": "code",
      "source": [
        "import pandas as pd\n",
        "\n",
        "# Upload CSV dari sidebar atau pastikan path benar\n",
        "file_path = \"/content/dataset_cyberbullying.csv\"  # Ganti sesuai nama file kamu\n",
        "# Try reading the CSV with a different encoding\n",
        "try:\n",
        "    df = pd.read_csv(file_path, encoding='utf-8')\n",
        "except UnicodeDecodeError:\n",
        "    df = pd.read_csv(file_path, encoding='latin1')\n",
        "\n",
        "\n",
        "# Pastikan hanya ambil kolom yang dibutuhkan\n",
        "df = df[['Komentar', 'Kategori']].dropna()\n",
        "\n",
        "# Cek 5 baris awal\n",
        "display(df.head())"
      ],
      "metadata": {
        "colab": {
          "base_uri": "https://localhost:8080/",
          "height": 206
        },
        "id": "JZ-eudx3H7eO",
        "outputId": "bb3fa7ba-bacc-42c6-f537-16c8259dfa08"
      },
      "execution_count": 51,
      "outputs": [
        {
          "output_type": "display_data",
          "data": {
            "text/plain": [
              "                                            Komentar      Kategori\n",
              "0        \"Kaka tidur yaa, udah pagi, gaboleh capek2\"  Non-bullying\n",
              "1            \"makan nasi padang aja begini badannya\"  Non-bullying\n",
              "2  \"yang aku suka dari dia adalah selalu cukur je...      Bullying\n",
              "3  \"Hai kak Isyana aku ngefans banget sama kak Is...  Non-bullying\n",
              "4  \"Manusia apa bidadari sih herann deh cantik te...  Non-bullying"
            ],
            "text/html": [
              "\n",
              "  <div id=\"df-e5d1e11e-5088-4157-99ca-1d0430aa7743\" class=\"colab-df-container\">\n",
              "    <div>\n",
              "<style scoped>\n",
              "    .dataframe tbody tr th:only-of-type {\n",
              "        vertical-align: middle;\n",
              "    }\n",
              "\n",
              "    .dataframe tbody tr th {\n",
              "        vertical-align: top;\n",
              "    }\n",
              "\n",
              "    .dataframe thead th {\n",
              "        text-align: right;\n",
              "    }\n",
              "</style>\n",
              "<table border=\"1\" class=\"dataframe\">\n",
              "  <thead>\n",
              "    <tr style=\"text-align: right;\">\n",
              "      <th></th>\n",
              "      <th>Komentar</th>\n",
              "      <th>Kategori</th>\n",
              "    </tr>\n",
              "  </thead>\n",
              "  <tbody>\n",
              "    <tr>\n",
              "      <th>0</th>\n",
              "      <td>\"Kaka tidur yaa, udah pagi, gaboleh capek2\"</td>\n",
              "      <td>Non-bullying</td>\n",
              "    </tr>\n",
              "    <tr>\n",
              "      <th>1</th>\n",
              "      <td>\"makan nasi padang aja begini badannya\"</td>\n",
              "      <td>Non-bullying</td>\n",
              "    </tr>\n",
              "    <tr>\n",
              "      <th>2</th>\n",
              "      <td>\"yang aku suka dari dia adalah selalu cukur je...</td>\n",
              "      <td>Bullying</td>\n",
              "    </tr>\n",
              "    <tr>\n",
              "      <th>3</th>\n",
              "      <td>\"Hai kak Isyana aku ngefans banget sama kak Is...</td>\n",
              "      <td>Non-bullying</td>\n",
              "    </tr>\n",
              "    <tr>\n",
              "      <th>4</th>\n",
              "      <td>\"Manusia apa bidadari sih herann deh cantik te...</td>\n",
              "      <td>Non-bullying</td>\n",
              "    </tr>\n",
              "  </tbody>\n",
              "</table>\n",
              "</div>\n",
              "    <div class=\"colab-df-buttons\">\n",
              "\n",
              "  <div class=\"colab-df-container\">\n",
              "    <button class=\"colab-df-convert\" onclick=\"convertToInteractive('df-e5d1e11e-5088-4157-99ca-1d0430aa7743')\"\n",
              "            title=\"Convert this dataframe to an interactive table.\"\n",
              "            style=\"display:none;\">\n",
              "\n",
              "  <svg xmlns=\"http://www.w3.org/2000/svg\" height=\"24px\" viewBox=\"0 -960 960 960\">\n",
              "    <path d=\"M120-120v-720h720v720H120Zm60-500h600v-160H180v160Zm220 220h160v-160H400v160Zm0 220h160v-160H400v160ZM180-400h160v-160H180v160Zm440 0h160v-160H620v160ZM180-180h160v-160H180v160Zm440 0h160v-160H620v160Z\"/>\n",
              "  </svg>\n",
              "    </button>\n",
              "\n",
              "  <style>\n",
              "    .colab-df-container {\n",
              "      display:flex;\n",
              "      gap: 12px;\n",
              "    }\n",
              "\n",
              "    .colab-df-convert {\n",
              "      background-color: #E8F0FE;\n",
              "      border: none;\n",
              "      border-radius: 50%;\n",
              "      cursor: pointer;\n",
              "      display: none;\n",
              "      fill: #1967D2;\n",
              "      height: 32px;\n",
              "      padding: 0 0 0 0;\n",
              "      width: 32px;\n",
              "    }\n",
              "\n",
              "    .colab-df-convert:hover {\n",
              "      background-color: #E2EBFA;\n",
              "      box-shadow: 0px 1px 2px rgba(60, 64, 67, 0.3), 0px 1px 3px 1px rgba(60, 64, 67, 0.15);\n",
              "      fill: #174EA6;\n",
              "    }\n",
              "\n",
              "    .colab-df-buttons div {\n",
              "      margin-bottom: 4px;\n",
              "    }\n",
              "\n",
              "    [theme=dark] .colab-df-convert {\n",
              "      background-color: #3B4455;\n",
              "      fill: #D2E3FC;\n",
              "    }\n",
              "\n",
              "    [theme=dark] .colab-df-convert:hover {\n",
              "      background-color: #434B5C;\n",
              "      box-shadow: 0px 1px 3px 1px rgba(0, 0, 0, 0.15);\n",
              "      filter: drop-shadow(0px 1px 2px rgba(0, 0, 0, 0.3));\n",
              "      fill: #FFFFFF;\n",
              "    }\n",
              "  </style>\n",
              "\n",
              "    <script>\n",
              "      const buttonEl =\n",
              "        document.querySelector('#df-e5d1e11e-5088-4157-99ca-1d0430aa7743 button.colab-df-convert');\n",
              "      buttonEl.style.display =\n",
              "        google.colab.kernel.accessAllowed ? 'block' : 'none';\n",
              "\n",
              "      async function convertToInteractive(key) {\n",
              "        const element = document.querySelector('#df-e5d1e11e-5088-4157-99ca-1d0430aa7743');\n",
              "        const dataTable =\n",
              "          await google.colab.kernel.invokeFunction('convertToInteractive',\n",
              "                                                    [key], {});\n",
              "        if (!dataTable) return;\n",
              "\n",
              "        const docLinkHtml = 'Like what you see? Visit the ' +\n",
              "          '<a target=\"_blank\" href=https://colab.research.google.com/notebooks/data_table.ipynb>data table notebook</a>'\n",
              "          + ' to learn more about interactive tables.';\n",
              "        element.innerHTML = '';\n",
              "        dataTable['output_type'] = 'display_data';\n",
              "        await google.colab.output.renderOutput(dataTable, element);\n",
              "        const docLink = document.createElement('div');\n",
              "        docLink.innerHTML = docLinkHtml;\n",
              "        element.appendChild(docLink);\n",
              "      }\n",
              "    </script>\n",
              "  </div>\n",
              "\n",
              "\n",
              "    <div id=\"df-43b49ed9-b0e5-475a-8675-315d24c5afb3\">\n",
              "      <button class=\"colab-df-quickchart\" onclick=\"quickchart('df-43b49ed9-b0e5-475a-8675-315d24c5afb3')\"\n",
              "                title=\"Suggest charts\"\n",
              "                style=\"display:none;\">\n",
              "\n",
              "<svg xmlns=\"http://www.w3.org/2000/svg\" height=\"24px\"viewBox=\"0 0 24 24\"\n",
              "     width=\"24px\">\n",
              "    <g>\n",
              "        <path d=\"M19 3H5c-1.1 0-2 .9-2 2v14c0 1.1.9 2 2 2h14c1.1 0 2-.9 2-2V5c0-1.1-.9-2-2-2zM9 17H7v-7h2v7zm4 0h-2V7h2v10zm4 0h-2v-4h2v4z\"/>\n",
              "    </g>\n",
              "</svg>\n",
              "      </button>\n",
              "\n",
              "<style>\n",
              "  .colab-df-quickchart {\n",
              "      --bg-color: #E8F0FE;\n",
              "      --fill-color: #1967D2;\n",
              "      --hover-bg-color: #E2EBFA;\n",
              "      --hover-fill-color: #174EA6;\n",
              "      --disabled-fill-color: #AAA;\n",
              "      --disabled-bg-color: #DDD;\n",
              "  }\n",
              "\n",
              "  [theme=dark] .colab-df-quickchart {\n",
              "      --bg-color: #3B4455;\n",
              "      --fill-color: #D2E3FC;\n",
              "      --hover-bg-color: #434B5C;\n",
              "      --hover-fill-color: #FFFFFF;\n",
              "      --disabled-bg-color: #3B4455;\n",
              "      --disabled-fill-color: #666;\n",
              "  }\n",
              "\n",
              "  .colab-df-quickchart {\n",
              "    background-color: var(--bg-color);\n",
              "    border: none;\n",
              "    border-radius: 50%;\n",
              "    cursor: pointer;\n",
              "    display: none;\n",
              "    fill: var(--fill-color);\n",
              "    height: 32px;\n",
              "    padding: 0;\n",
              "    width: 32px;\n",
              "  }\n",
              "\n",
              "  .colab-df-quickchart:hover {\n",
              "    background-color: var(--hover-bg-color);\n",
              "    box-shadow: 0 1px 2px rgba(60, 64, 67, 0.3), 0 1px 3px 1px rgba(60, 64, 67, 0.15);\n",
              "    fill: var(--button-hover-fill-color);\n",
              "  }\n",
              "\n",
              "  .colab-df-quickchart-complete:disabled,\n",
              "  .colab-df-quickchart-complete:disabled:hover {\n",
              "    background-color: var(--disabled-bg-color);\n",
              "    fill: var(--disabled-fill-color);\n",
              "    box-shadow: none;\n",
              "  }\n",
              "\n",
              "  .colab-df-spinner {\n",
              "    border: 2px solid var(--fill-color);\n",
              "    border-color: transparent;\n",
              "    border-bottom-color: var(--fill-color);\n",
              "    animation:\n",
              "      spin 1s steps(1) infinite;\n",
              "  }\n",
              "\n",
              "  @keyframes spin {\n",
              "    0% {\n",
              "      border-color: transparent;\n",
              "      border-bottom-color: var(--fill-color);\n",
              "      border-left-color: var(--fill-color);\n",
              "    }\n",
              "    20% {\n",
              "      border-color: transparent;\n",
              "      border-left-color: var(--fill-color);\n",
              "      border-top-color: var(--fill-color);\n",
              "    }\n",
              "    30% {\n",
              "      border-color: transparent;\n",
              "      border-left-color: var(--fill-color);\n",
              "      border-top-color: var(--fill-color);\n",
              "      border-right-color: var(--fill-color);\n",
              "    }\n",
              "    40% {\n",
              "      border-color: transparent;\n",
              "      border-right-color: var(--fill-color);\n",
              "      border-top-color: var(--fill-color);\n",
              "    }\n",
              "    60% {\n",
              "      border-color: transparent;\n",
              "      border-right-color: var(--fill-color);\n",
              "    }\n",
              "    80% {\n",
              "      border-color: transparent;\n",
              "      border-right-color: var(--fill-color);\n",
              "      border-bottom-color: var(--fill-color);\n",
              "    }\n",
              "    90% {\n",
              "      border-color: transparent;\n",
              "      border-bottom-color: var(--fill-color);\n",
              "    }\n",
              "  }\n",
              "</style>\n",
              "\n",
              "      <script>\n",
              "        async function quickchart(key) {\n",
              "          const quickchartButtonEl =\n",
              "            document.querySelector('#' + key + ' button');\n",
              "          quickchartButtonEl.disabled = true;  // To prevent multiple clicks.\n",
              "          quickchartButtonEl.classList.add('colab-df-spinner');\n",
              "          try {\n",
              "            const charts = await google.colab.kernel.invokeFunction(\n",
              "                'suggestCharts', [key], {});\n",
              "          } catch (error) {\n",
              "            console.error('Error during call to suggestCharts:', error);\n",
              "          }\n",
              "          quickchartButtonEl.classList.remove('colab-df-spinner');\n",
              "          quickchartButtonEl.classList.add('colab-df-quickchart-complete');\n",
              "        }\n",
              "        (() => {\n",
              "          let quickchartButtonEl =\n",
              "            document.querySelector('#df-43b49ed9-b0e5-475a-8675-315d24c5afb3 button');\n",
              "          quickchartButtonEl.style.display =\n",
              "            google.colab.kernel.accessAllowed ? 'block' : 'none';\n",
              "        })();\n",
              "      </script>\n",
              "    </div>\n",
              "\n",
              "    </div>\n",
              "  </div>\n"
            ],
            "application/vnd.google.colaboratory.intrinsic+json": {
              "type": "dataframe",
              "summary": "{\n  \"name\": \"display(df\",\n  \"rows\": 5,\n  \"fields\": [\n    {\n      \"column\": \"Komentar\",\n      \"properties\": {\n        \"dtype\": \"string\",\n        \"num_unique_values\": 5,\n        \"samples\": [\n          \"\\\"makan nasi padang aja begini badannya\\\"\",\n          \"\\\"Manusia apa bidadari sih herann deh cantik terus ????\\\"\",\n          \"\\\"yang aku suka dari dia adalah selalu cukur jembut sebelum manggung\\\"\"\n        ],\n        \"semantic_type\": \"\",\n        \"description\": \"\"\n      }\n    },\n    {\n      \"column\": \"Kategori\",\n      \"properties\": {\n        \"dtype\": \"category\",\n        \"num_unique_values\": 2,\n        \"samples\": [\n          \"Bullying\",\n          \"Non-bullying\"\n        ],\n        \"semantic_type\": \"\",\n        \"description\": \"\"\n      }\n    }\n  ]\n}"
            }
          },
          "metadata": {}
        }
      ]
    },
    {
      "cell_type": "markdown",
      "metadata": {
        "id": "cd454895"
      },
      "source": [
        "*   Mengambil Komentar Teratas\n",
        "*   Melakukan Loop untuk Ringkasan dan Klasifikasi AI\n",
        "*   Mencetak Hasil Ringkasan dan Klasifikasi per Komentar"
      ]
    },
    {
      "cell_type": "code",
      "source": [
        "import pandas as pd\n",
        "\n",
        "# Ambil 5 komentar teratas\n",
        "top_komentar = df['Komentar'].dropna().head(5).tolist()\n",
        "\n",
        "# List hasil\n",
        "ringkasan_list = []\n",
        "klasifikasi_list = []\n",
        "\n",
        "# Loop tiap komentar\n",
        "for i, komentar in enumerate(top_komentar):\n",
        "    print(f\"\\n🔹 Komentar ke-{i+1}:\\n\\\"{komentar}\\\"\")\n",
        "\n",
        "    # Prompt ringkasan\n",
        "    prompt_summary = f\"\"\"\n",
        "Ringkas komentar media sosial berikut dalam **maksimum 20 kata**, dalam bahasa Indonesia.\n",
        "\n",
        "Komentar:\n",
        "\"{komentar}\"\n",
        "\n",
        "Berikan hanya satu kalimat ringkas tanpa penjelasan tambahan.\n",
        "\"\"\"\n",
        "    summary = model.invoke(prompt_summary).strip()\n",
        "    ringkasan_list.append(summary)\n",
        "    print(f\"\\n📄 Ringkasan:\\n{summary}\")\n",
        "\n",
        "    # Prompt klasifikasi bullying\n",
        "    prompt_klasifikasi = f\"\"\"\n",
        "Evaluasilah komentar media sosial berikut dan tentukan apakah termasuk **Bullying** atau **Bukan Bullying**.\n",
        "\n",
        "Gunakan panduan ini:\n",
        "\n",
        "🟥 Bullying:\n",
        "- Menghina, menyindir, atau merendahkan\n",
        "- Menyerang fisik, penampilan, keluarga, atau identitas\n",
        "- Memancing emosi negatif atau mempermalukan\n",
        "\n",
        "🟩 Bukan Bullying:\n",
        "- Netral, sopan, opini wajar\n",
        "- Kritik tanpa merendahkan\n",
        "- Pujian atau humor yang tidak menyerang\n",
        "\n",
        "Contoh:\n",
        "- \"Kamu tuh bodoh banget ya, ngapain ikut lomba.\" → Bullying\n",
        "- \"Menurutku desainnya kurang menarik, bisa diperbaiki.\" → Bukan Bullying\n",
        "\n",
        "🗨️ Komentar:\n",
        "\"{komentar}\"\n",
        "\n",
        "Balas dengan format persis ini:\n",
        "\n",
        "Penjelasan: ...\n",
        "Kategori: Bullying atau Bukan Bullying\n",
        "\"\"\"\n",
        "\n",
        "    klasifikasi = model.invoke(prompt_klasifikasi).strip()\n",
        "    klasifikasi_list.append(klasifikasi)\n",
        "    print(f\"\\n{klasifikasi}\")\n"
      ],
      "metadata": {
        "colab": {
          "base_uri": "https://localhost:8080/"
        },
        "id": "w5-Ph6KyH-Px",
        "outputId": "fccf1c6e-76e5-402a-f4f6-a1cf595c984a"
      },
      "execution_count": 57,
      "outputs": [
        {
          "output_type": "stream",
          "name": "stdout",
          "text": [
            "\n",
            "🔹 Komentar ke-1:\n",
            "\"\"Kaka tidur yaa, udah pagi, gaboleh capek2\"\"\n",
            "\n",
            "📄 Ringkasan:\n",
            "Kalau kaka sudah tidur, mau bangun ya, udh jam 6 pagi.\n",
            "\n",
            "Penjelasan: Komentar tersebut tidak termasuk dalam kategori bullying. Komentar \"Kaka tidur yaa, udah pagi, gaboleh capek2\" hanya menyampaikan pesan untuk kaka untuk bangun dari tidur karena sudah pagi. Komentar tersebut tidak menghina, menyerang fisik, penampilan, keluarga, atau identitas, tidak memancing emosi negatif, atau mempermalukan. Ini lebih dikenal sebagai kritikan atau nasihat yang terlalu langsung dan mungkin terlalu keras, tetapi tidak memenuhi kriteria bullying.\n",
            "\n",
            "Kategori: Bukan Bullying\n",
            "\n",
            "🔹 Komentar ke-2:\n",
            "\"\"makan nasi padang aja begini badannya\"\"\n",
            "\n",
            "📄 Ringkasan:\n",
            "Komentar ini menceritakan bahwa seseorang merasakan bahwa makan nasi padang (masakan Padang, Sumatera Barat) dapat mengurangi masalah kesehatan tubuh, seperti menurunkan berat badan.\n",
            "\n",
            "Penjelasan: Komentar tersebut dapat diinterpretasikan sebagai serangkaian yang menghina tetapi tidak terlalu jaringan dan tidak menyerang secara langsung. Ia menciptakan perspektif bahwa kebodohan atau kelemahan fisik (dalam konteks, bentuk badan) adalah hasil dari makan nasi padang.\n",
            "\n",
            "Kategori: Bullying\n",
            "\n",
            "🔹 Komentar ke-3:\n",
            "\"\"yang aku suka dari dia adalah selalu cukur jembut sebelum manggung\"\"\n",
            "\n",
            "📄 Ringkasan:\n",
            "Komentar menghormati sikap disiplin dan tepat waktu dari individu tersebut.\n",
            "\n",
            "Penjelasan: Komentar tersebut dapat dikategorikan sebagai **Bullying**. Komentar ini bertujuan untuk menyerang sifat fisik dari seseorang, khususnya mengenai tata rambut (cukur jembut) dan kemungkinan perilaku pribadi (sebelum manggung). Hal ini terdapat kata-kata yang bertujuan untuk memperlihatkan kekurangan atau kecuaian seseorang, yang merupakan ciri bullying.\n",
            "\n",
            "Kategori: Bullying\n",
            "\n",
            "🔹 Komentar ke-4:\n",
            "\"\"Hai kak Isyana aku ngefans banget sama kak Isyana.aku paling suka lagu kak Isyana itu lagu tetap didalam jiwa\"\"\n",
            "\n",
            "📄 Ringkasan:\n",
            "Fans terbanyak suka lagu Isyana.\n",
            "\n",
            "Penjelasan: Komentar tersebut dianggap sebagai **Bukan Bullying**. Komentar ini menunjukkan kebijaksanaan dan kegemar terhadap musik Kak Isyana, tanpa menyerang, menyindir, atau merendahkan. Ia juga tidak melibatkan serangannya fisik, penampilan, keluarga, atau identitas, serta tidak memancing emosi negatif. Komentar ini dianggap sopan dan opini wajar, bukan sebagai bentuk bullying.\n",
            "\n",
            "Kategori: Bukan Bullying\n",
            "\n",
            "🔹 Komentar ke-5:\n",
            "\"\"Manusia apa bidadari sih herann deh cantik terus ????\"\"\n",
            "\n",
            "📄 Ringkasan:\n",
            "Komentar tersebut menyampaikan rasa keheranan terhadap pernyataan yang mengatakan seseorang cantik seperti bidadari, yang mungkin menimbulkan perspektif bias atau menciptakan standar estetika yang berlebihan.\n",
            "\n",
            "Penjelasan: Komentar tersebut dapat dibaca sebagai sesuatu yang menyerang dan menghina pandangan pribadi seseorang tentang kecantikannya. Ia menggunakan gaya yang menyerang dan menghina, bukan sebagai opini sopan.\n",
            "\n",
            "Kategori: Bullying\n"
          ]
        }
      ]
    },
    {
      "cell_type": "markdown",
      "metadata": {
        "id": "8f279299"
      },
      "source": [
        "*   Membuat DataFrame Hasil\n"
      ]
    },
    {
      "cell_type": "code",
      "source": [
        "# Buat DataFrame hasil\n",
        "hasil_df = pd.DataFrame({\n",
        "    'Komentar': top_komentar,\n",
        "    'Ringkasan': ringkasan_list,\n",
        "    'Evaluasi': klasifikasi_list\n",
        "})\n",
        "\n",
        "# Tambahkan kolom kategori hasil ekstraksi\n",
        "hasil_df['Kategori'] = hasil_df['Evaluasi'].str.extract(r'Kategori:\\s*(.*)', expand=False)\n",
        "\n",
        "# Tampilkan DataFrame\n",
        "print(\"\\n📊 Hasil Evaluasi 5 Komentar Teratas:\\n\")\n",
        "print(hasil_df[['Komentar', 'Ringkasan', 'Kategori']])\n"
      ],
      "metadata": {
        "colab": {
          "base_uri": "https://localhost:8080/"
        },
        "id": "2Vj1f6uhKLlL",
        "outputId": "6b6b9dd3-83cd-4d3f-a8cf-0189de253a91"
      },
      "execution_count": 58,
      "outputs": [
        {
          "output_type": "stream",
          "name": "stdout",
          "text": [
            "\n",
            "📊 Hasil Evaluasi 5 Komentar Teratas:\n",
            "\n",
            "                                            Komentar  \\\n",
            "0        \"Kaka tidur yaa, udah pagi, gaboleh capek2\"   \n",
            "1            \"makan nasi padang aja begini badannya\"   \n",
            "2  \"yang aku suka dari dia adalah selalu cukur je...   \n",
            "3  \"Hai kak Isyana aku ngefans banget sama kak Is...   \n",
            "4  \"Manusia apa bidadari sih herann deh cantik te...   \n",
            "\n",
            "                                           Ringkasan        Kategori  \n",
            "0  Kalau kaka sudah tidur, mau bangun ya, udh jam...  Bukan Bullying  \n",
            "1  Komentar ini menceritakan bahwa seseorang mera...        Bullying  \n",
            "2  Komentar menghormati sikap disiplin dan tepat ...        Bullying  \n",
            "3                   Fans terbanyak suka lagu Isyana.  Bukan Bullying  \n",
            "4  Komentar tersebut menyampaikan rasa keheranan ...        Bullying  \n"
          ]
        }
      ]
    },
    {
      "cell_type": "markdown",
      "metadata": {
        "id": "d6ff7249"
      },
      "source": [
        "*   Evaluasi Performa Model AI\n",
        "*   Menghitung Akurasi\n",
        "*   Menampilkan Confusion Matrix dan Classification Report"
      ]
    },
    {
      "cell_type": "code",
      "source": [
        "from sklearn.metrics import classification_report, confusion_matrix, accuracy_score\n",
        "import pandas as pd\n",
        "import re # Import regex module\n",
        "\n",
        "# Ambil 5 label asli pertama dari dataframe\n",
        "kategori_asli = df['Kategori'].head(5).tolist()\n",
        "\n",
        "# Clean up the true labels: standardize to \"Bullying\" and \"Bukan Bullying\"\n",
        "kategori_asli_cleaned = [label.strip().lower().replace('non-bullying', 'bukan bullying').title() for label in kategori_asli]\n",
        "\n",
        "# Clean up the predicted labels: extract \"Bullying\" or \"Bukan Bullying\" using regex\n",
        "klasifikasi_list_cleaned = []\n",
        "for label in klasifikasi_list:\n",
        "    match = re.search(r'Kategori: (Bullying|Bukan Bullying)', label, re.IGNORECASE)\n",
        "    if match:\n",
        "        klasifikasi_list_cleaned.append(match.group(1).title())\n",
        "    else:\n",
        "        # Handle cases where the pattern is not found (e.g., unexpected model output)\n",
        "        klasifikasi_list_cleaned.append(\"Unknown\") # Or some other indicator\n",
        "\n",
        "\n",
        "# --- Add diagnostic print statements ---\n",
        "print(\"Unique values in cleaned true labels:\", sorted(list(set(kategori_asli_cleaned))))\n",
        "print(\"Unique values in cleaned predicted labels:\", sorted(list(set(klasifikasi_list_cleaned))))\n",
        "# --- End of diagnostic print statements ---\n",
        "\n",
        "\n",
        "# Evaluate akurasi\n",
        "# Use the cleaned true labels for evaluation\n",
        "akurasi = accuracy_score(kategori_asli_cleaned, klasifikasi_list_cleaned)\n",
        "print(f\"\\n✅ Akurasi AI: {akurasi * 100:.2f}%\")\n",
        "\n",
        "# Confusion Matrix\n",
        "# Use the cleaned true and predicted labels for the confusion matrix\n",
        "# Ensure labels list includes all possible labels after cleaning, including 'Unknown' if applicable\n",
        "possible_labels = sorted(list(set(kategori_asli_cleaned + klasifikasi_list_cleaned)))\n",
        "\n",
        "conf_matrix = pd.DataFrame(\n",
        "    confusion_matrix(kategori_asli_cleaned, klasifikasi_list_cleaned, labels=possible_labels),\n",
        "    index=[f\"Asli: {label}\" for label in possible_labels],\n",
        "    columns=[f\"Pred: {label}\" for label in possible_labels]\n",
        ")\n",
        "print(\"\\n📊 Confusion Matrix:\")\n",
        "print(conf_matrix)\n",
        "\n",
        "# Classification Report\n",
        "# Use the cleaned true and predicted labels for the classification report\n",
        "print(\"\\n📋 Classification Report:\")\n",
        "# Only include Bullying and Bukan Bullying in the target names if they are present in the cleaned labels\n",
        "report_target_names = [label for label in [\"Bullying\", \"Bukan Bullying\"] if label in possible_labels]\n",
        "if 'Unknown' in possible_labels:\n",
        "    report_target_names.append('Unknown') # Include Unknown if it appeared\n",
        "\n",
        "# Ensure target_names matches the labels used in the confusion matrix if 'Unknown' is present\n",
        "print(classification_report(kategori_asli_cleaned, klasifikasi_list_cleaned, target_names=possible_labels, zero_division=0))"
      ],
      "metadata": {
        "colab": {
          "base_uri": "https://localhost:8080/"
        },
        "id": "FcCqAMxhLzp4",
        "outputId": "00823d4c-7e5b-42f4-f4b6-f4b2a03e7c9e"
      },
      "execution_count": 59,
      "outputs": [
        {
          "output_type": "stream",
          "name": "stdout",
          "text": [
            "Unique values in cleaned true labels: ['Bukan Bullying', 'Bullying']\n",
            "Unique values in cleaned predicted labels: ['Bukan Bullying', 'Bullying']\n",
            "\n",
            "✅ Akurasi AI: 60.00%\n",
            "\n",
            "📊 Confusion Matrix:\n",
            "                      Pred: Bukan Bullying  Pred: Bullying\n",
            "Asli: Bukan Bullying                     2               2\n",
            "Asli: Bullying                           0               1\n",
            "\n",
            "📋 Classification Report:\n",
            "                precision    recall  f1-score   support\n",
            "\n",
            "Bukan Bullying       1.00      0.50      0.67         4\n",
            "      Bullying       0.33      1.00      0.50         1\n",
            "\n",
            "      accuracy                           0.60         5\n",
            "     macro avg       0.67      0.75      0.58         5\n",
            "  weighted avg       0.87      0.60      0.63         5\n",
            "\n"
          ]
        }
      ]
    },
    {
      "cell_type": "code",
      "source": [
        "import seaborn as sns\n",
        "import matplotlib.pyplot as plt\n",
        "# Buat confusion matrix numerik\n",
        "from sklearn.metrics import confusion_matrix\n",
        "\n",
        "cm = confusion_matrix(kategori_asli_cleaned, klasifikasi_list_cleaned, labels=possible_labels)\n",
        "\n",
        "# Visualisasi Confusion Matrix\n",
        "plt.figure(figsize=(8, 6))\n",
        "sns.heatmap(cm, annot=True, fmt='d', cmap='Blues',\n",
        "            xticklabels=[f\"Pred: {label}\" for label in possible_labels],\n",
        "            yticklabels=[f\"Asli: {label}\" for label in possible_labels])\n",
        "\n",
        "plt.title('📊 Confusion Matrix Visual')\n",
        "plt.xlabel('Predicted Label')\n",
        "plt.ylabel('True Label')\n",
        "plt.tight_layout()\n",
        "plt.show()\n"
      ],
      "metadata": {
        "colab": {
          "base_uri": "https://localhost:8080/",
          "height": 696
        },
        "id": "Q6YMF3bjX7M6",
        "outputId": "9d48b1cf-0773-457a-cbf0-8252ec8c329d"
      },
      "execution_count": 60,
      "outputs": [
        {
          "output_type": "stream",
          "name": "stderr",
          "text": [
            "/tmp/ipython-input-734586333.py:17: UserWarning: Glyph 128202 (\\N{BAR CHART}) missing from font(s) DejaVu Sans.\n",
            "  plt.tight_layout()\n",
            "/usr/local/lib/python3.11/dist-packages/IPython/core/pylabtools.py:151: UserWarning: Glyph 128202 (\\N{BAR CHART}) missing from font(s) DejaVu Sans.\n",
            "  fig.canvas.print_figure(bytes_io, **kw)\n"
          ]
        },
        {
          "output_type": "display_data",
          "data": {
            "text/plain": [
              "<Figure size 800x600 with 2 Axes>"
            ],
            "image/png": "[encoded data removed]"
          },
          "metadata": {}
        }
      ]
    },
    {
      "cell_type": "markdown",
      "metadata": {
        "id": "ab2b6a56"
      },
      "source": [
        "*   Menguji Klasifikasi pada Komentar Baru\n",
        "*   Mencetak Hasil Uji Coba"
      ]
    },
    {
      "cell_type": "code",
      "source": [
        "komentar = \"Manusia apa bidadari sih herann deh cantik terus ????\"\n",
        "\n",
        "prompt_klasifikasi = f\"\"\"\n",
        "Analisis komentar media sosial berikut dan lakukan dua hal:\n",
        "1. Berikan penjelasan singkat (1 kalimat) mengapa komentar ini tergolong \"Bullying\" atau \"Bukan Bullying\" dalam bahasa indonesia.\n",
        "2. Tulis kategorinya secara tegas di akhir dengan format:\n",
        "Penjelasan: ...\n",
        "Kategori: Bullying atau Bukan Bullying\n",
        "\n",
        "Komentar:\n",
        "\"{komentar}\"\n",
        "\"\"\"\n",
        "\n",
        "\n",
        "result = model.invoke(prompt_klasifikasi).strip()\n",
        "\n",
        "print(f\"Komentar: {komentar}\\n{result}\")\n"
      ],
      "metadata": {
        "colab": {
          "base_uri": "https://localhost:8080/"
        },
        "id": "28X5sOAwIG7U",
        "outputId": "328bc8c3-c933-42cd-c2ce-50d742013447"
      },
      "execution_count": 63,
      "outputs": [
        {
          "output_type": "stream",
          "name": "stdout",
          "text": [
            "Komentar: Manusia apa bidadari sih herann deh cantik terus ????\n",
            "Penjelasan: Komentar ini tergolong \"Bukan Bullying\" karena secara tidak langsung mengkritik atau menghina individu tanpa mendatangkan kesulitan atau rasa salah atau rasa terlalu melebihi di sisi mereka. Ia bertujuan untuk menyampaikan kompliment yang sedikit mencurigakan dan bertentangan dengan permintaan kita untuk komen yang positif dan sopan.\n",
            "\n",
            "Kategori: Bukan Bullying\n"
          ]
        }
      ]
    },
    {
      "cell_type": "markdown",
      "source": [
        "**2. Insight dan Visualization Data**"
      ],
      "metadata": {
        "id": "wocz8uHyYlWW"
      }
    },
    {
      "cell_type": "markdown",
      "metadata": {
        "id": "5af89cad"
      },
      "source": [
        "Kode ini bertujuan untuk mendapatkan insight awal dari dataset."
      ]
    },
    {
      "cell_type": "code",
      "metadata": {
        "colab": {
          "base_uri": "https://localhost:8080/",
          "height": 426
        },
        "id": "0293bd8e",
        "outputId": "08245e31-d3a7-442c-8e84-f625d8231e87"
      },
      "source": [
        "# Import library pandas\n",
        "import pandas as pd\n",
        "\n",
        "# Asumsi df sudah dimuat dari langkah sebelumnya\n",
        "\n",
        "# Menampilkan jumlah total komentar\n",
        "total_komentar = df.shape[0]\n",
        "print(f\"Jumlah total komentar: {total_komentar}\\n\")\n",
        "\n",
        "# Menampilkan distribusi komentar berdasarkan kategori\n",
        "if 'Kategori' in df.columns:\n",
        "    print(\"Distribusi komentar berdasarkan kategori:\")\n",
        "    display(df['Kategori'].value_counts())\n",
        "else:\n",
        "    print(\"Kolom 'Kategori' tidak ditemukan di DataFrame.\")\n",
        "\n",
        "# Menampilkan rata-rata panjang komentar per kategori (jika kolom Kategori ada)\n",
        "if 'Kategori' in df.columns:\n",
        "    df['Panjang_Komentar'] = df['Komentar'].apply(len)\n",
        "    print(\"\\nRata-rata panjang komentar per kategori:\")\n",
        "    display(df.groupby('Kategori')['Panjang_Komentar'].mean())"
      ],
      "execution_count": 64,
      "outputs": [
        {
          "output_type": "stream",
          "name": "stdout",
          "text": [
            "Jumlah total komentar: 650\n",
            "\n",
            "Distribusi komentar berdasarkan kategori:\n"
          ]
        },
        {
          "output_type": "display_data",
          "data": {
            "text/plain": [
              "Kategori\n",
              "Non-bullying    325\n",
              "Bullying        325\n",
              "Name: count, dtype: int64"
            ],
            "text/html": [
              "<div>\n",
              "<style scoped>\n",
              "    .dataframe tbody tr th:only-of-type {\n",
              "        vertical-align: middle;\n",
              "    }\n",
              "\n",
              "    .dataframe tbody tr th {\n",
              "        vertical-align: top;\n",
              "    }\n",
              "\n",
              "    .dataframe thead th {\n",
              "        text-align: right;\n",
              "    }\n",
              "</style>\n",
              "<table border=\"1\" class=\"dataframe\">\n",
              "  <thead>\n",
              "    <tr style=\"text-align: right;\">\n",
              "      <th></th>\n",
              "      <th>count</th>\n",
              "    </tr>\n",
              "    <tr>\n",
              "      <th>Kategori</th>\n",
              "      <th></th>\n",
              "    </tr>\n",
              "  </thead>\n",
              "  <tbody>\n",
              "    <tr>\n",
              "      <th>Non-bullying</th>\n",
              "      <td>325</td>\n",
              "    </tr>\n",
              "    <tr>\n",
              "      <th>Bullying</th>\n",
              "      <td>325</td>\n",
              "    </tr>\n",
              "  </tbody>\n",
              "</table>\n",
              "</div><br><label><b>dtype:</b> int64</label>"
            ]
          },
          "metadata": {}
        },
        {
          "output_type": "stream",
          "name": "stdout",
          "text": [
            "\n",
            "Rata-rata panjang komentar per kategori:\n"
          ]
        },
        {
          "output_type": "display_data",
          "data": {
            "text/plain": [
              "Kategori\n",
              "Bullying        56.547692\n",
              "Non-bullying    69.695385\n",
              "Name: Panjang_Komentar, dtype: float64"
            ],
            "text/html": [
              "<div>\n",
              "<style scoped>\n",
              "    .dataframe tbody tr th:only-of-type {\n",
              "        vertical-align: middle;\n",
              "    }\n",
              "\n",
              "    .dataframe tbody tr th {\n",
              "        vertical-align: top;\n",
              "    }\n",
              "\n",
              "    .dataframe thead th {\n",
              "        text-align: right;\n",
              "    }\n",
              "</style>\n",
              "<table border=\"1\" class=\"dataframe\">\n",
              "  <thead>\n",
              "    <tr style=\"text-align: right;\">\n",
              "      <th></th>\n",
              "      <th>Panjang_Komentar</th>\n",
              "    </tr>\n",
              "    <tr>\n",
              "      <th>Kategori</th>\n",
              "      <th></th>\n",
              "    </tr>\n",
              "  </thead>\n",
              "  <tbody>\n",
              "    <tr>\n",
              "      <th>Bullying</th>\n",
              "      <td>56.547692</td>\n",
              "    </tr>\n",
              "    <tr>\n",
              "      <th>Non-bullying</th>\n",
              "      <td>69.695385</td>\n",
              "    </tr>\n",
              "  </tbody>\n",
              "</table>\n",
              "</div><br><label><b>dtype:</b> float64</label>"
            ]
          },
          "metadata": {}
        }
      ]
    },
    {
      "cell_type": "markdown",
      "metadata": {
        "id": "6c1b40d1"
      },
      "source": [
        "Visualisasi distribusi komentar berdasarkan kategori."
      ]
    },
    {
      "cell_type": "code",
      "metadata": {
        "colab": {
          "base_uri": "https://localhost:8080/",
          "height": 517
        },
        "id": "255e1c10",
        "outputId": "31095cc7-bd4f-49ed-b924-6f0f78616b46"
      },
      "source": [
        "import matplotlib.pyplot as plt\n",
        "import seaborn as sns\n",
        "\n",
        "# Visualisasi distribusi komentar berdasarkan kategori\n",
        "if 'Kategori' in df.columns:\n",
        "    plt.figure(figsize=(6, 4))\n",
        "    sns.countplot(data=df, x='Kategori', palette='viridis')\n",
        "    plt.title('Distribusi Komentar berdasarkan Kategori')\n",
        "    plt.xlabel('Kategori')\n",
        "    plt.ylabel('Jumlah Komentar')\n",
        "    plt.show()\n",
        "else:\n",
        "    print(\"Kolom 'Kategori' tidak ditemukan di DataFrame untuk visualisasi.\")"
      ],
      "execution_count": 65,
      "outputs": [
        {
          "output_type": "stream",
          "name": "stderr",
          "text": [
            "/tmp/ipython-input-733604499.py:7: FutureWarning: \n",
            "\n",
            "Passing `palette` without assigning `hue` is deprecated and will be removed in v0.14.0. Assign the `x` variable to `hue` and set `legend=False` for the same effect.\n",
            "\n",
            "  sns.countplot(data=df, x='Kategori', palette='viridis')\n"
          ]
        },
        {
          "output_type": "display_data",
          "data": {
            "text/plain": [
              "<Figure size 600x400 with 1 Axes>"
            ],
            "image/png": "[encoded data removed]"
          },
          "metadata": {}
        }
      ]
    },
    {
      "cell_type": "markdown",
      "metadata": {
        "id": "23c0c7d2"
      },
      "source": [
        "Visualisasi rata-rata panjang komentar per kategori."
      ]
    },
    {
      "cell_type": "code",
      "metadata": {
        "colab": {
          "base_uri": "https://localhost:8080/",
          "height": 517
        },
        "id": "370347ba",
        "outputId": "4bf8054e-8bf6-4c70-a61a-fe35b0da9f57"
      },
      "source": [
        "import matplotlib.pyplot as plt\n",
        "import seaborn as sns\n",
        "\n",
        "# Visualisasi rata-rata panjang komentar per kategori\n",
        "if 'Kategori' in df.columns and 'Panjang_Komentar' in df.columns:\n",
        "    plt.figure(figsize=(6, 4))\n",
        "    sns.barplot(data=df, x='Kategori', y='Panjang_Komentar', palette='viridis')\n",
        "    plt.title('Rata-rata Panjang Komentar per Kategori')\n",
        "    plt.xlabel('Kategori')\n",
        "    plt.ylabel('Rata-rata Panjang Komentar')\n",
        "    plt.show()\n",
        "elif 'Kategori' not in df.columns:\n",
        "    print(\"Kolom 'Kategori' tidak ditemukan di DataFrame untuk visualisasi rata-rata panjang komentar.\")\n",
        "elif 'Panjang_Komentar' not in df.columns:\n",
        "     print(\"Kolom 'Panjang_Komentar' tidak ditemukan di DataFrame. Pastikan Anda sudah menghitung panjang komentar.\")"
      ],
      "execution_count": 66,
      "outputs": [
        {
          "output_type": "stream",
          "name": "stderr",
          "text": [
            "/tmp/ipython-input-4069672922.py:7: FutureWarning: \n",
            "\n",
            "Passing `palette` without assigning `hue` is deprecated and will be removed in v0.14.0. Assign the `x` variable to `hue` and set `legend=False` for the same effect.\n",
            "\n",
            "  sns.barplot(data=df, x='Kategori', y='Panjang_Komentar', palette='viridis')\n"
          ]
        },
        {
          "output_type": "display_data",
          "data": {
            "text/plain": [
              "<Figure size 600x400 with 1 Axes>"
            ],
            "image/png": "[encoded data removed]"
          },
          "metadata": {}
        }
      ]
    }
  ]
}